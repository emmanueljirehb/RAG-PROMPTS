{
 "cells": [
  {
   "cell_type": "code",
   "execution_count": 1,
   "id": "2d41b06a-28b7-4366-bb5e-86a802320288",
   "metadata": {},
   "outputs": [],
   "source": [
    "import os\n",
    "#os.environ[\"OPENAI_API_KEY\"]=\"\"\n",
    "os.environ[\"OPENAI_API_KEY\"]=\" insert your api key \" "
   ]
  },
  {
   "cell_type": "markdown",
   "id": "87659dae-db22-4bbd-9b46-f1c1499462aa",
   "metadata": {},
   "source": [
    "# loading documents into the DB"
   ]
  },
  {
   "cell_type": "code",
   "execution_count": 2,
   "id": "8cb54215-6cc5-4309-af3d-d40e9bcc421d",
   "metadata": {},
   "outputs": [],
   "source": [
    "\n",
    "from langchain_community.document_loaders import PyPDFLoader\n",
    "from langchain.text_splitter import RecursiveCharacterTextSplitter\n",
    "from langchain_community.vectorstores import FAISS\n",
    "from langchain_openai import OpenAIEmbeddings\n",
    "\n",
    "\n",
    "#create a new file named vectorstore in your current directory.\n",
    "if __name__==\"__main__\":\n",
    "        DB_FAISS_PATH = 'vectorstore/db_faiss'\n",
    "        loader=PyPDFLoader(\"D:/RAMANASOFT/Bhagavad-gita-Swami-BG-Narasingha.pdf\")\n",
    "        docs=loader.load()\n",
    "        text_splitter = RecursiveCharacterTextSplitter(chunk_size=1000, chunk_overlap=200)\n",
    "        splits = text_splitter.split_documents(docs)\n",
    "        vectorstore = FAISS.from_documents(documents=splits, embedding=OpenAIEmbeddings(chunk_size=100))\n",
    "        vectorstore.save_local(DB_FAISS_PATH)"
   ]
  },
  {
   "cell_type": "code",
   "execution_count": null,
   "id": "5df9005c-8fa4-4f11-ac89-a71267f62c77",
   "metadata": {},
   "outputs": [],
   "source": []
  }
 ],
 "metadata": {
  "kernelspec": {
   "display_name": "Python 3 (ipykernel)",
   "language": "python",
   "name": "python3"
  },
  "language_info": {
   "codemirror_mode": {
    "name": "ipython",
    "version": 3
   },
   "file_extension": ".py",
   "mimetype": "text/x-python",
   "name": "python",
   "nbconvert_exporter": "python",
   "pygments_lexer": "ipython3",
   "version": "3.12.7"
  }
 },
 "nbformat": 4,
 "nbformat_minor": 5
}
