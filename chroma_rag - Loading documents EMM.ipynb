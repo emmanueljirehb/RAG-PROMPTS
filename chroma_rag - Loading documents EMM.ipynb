{
 "cells": [
  {
   "cell_type": "markdown",
   "id": "7caf98a7-b261-487a-9172-28dbcb9f7271",
   "metadata": {},
   "source": [
    "# Setting environment parameter"
   ]
  },
  {
   "cell_type": "code",
   "execution_count": 1,
   "id": "a82bf488-9023-458b-a0f1-ab299185ddc3",
   "metadata": {},
   "outputs": [],
   "source": [
    "import os\n",
    "#os.environ[\"OPENAI_API_KEY\"]=\"\" !pip install langchain_openai\n",
    "\"\"\" langchain==0.3.20\n",
    "langchain-community==0.3.7\n",
    "langchain-core==0.3.47\n",
    "langchain-experimental==0.3.3\n",
    "langchain-google-genai==2.1.1\n",
    "langchain-openai==0.2.8\n",
    "langchain-text-splitters==0.3.6\n",
    "openai==1.65.5\n",
    "chromadb==0.5.18 \n",
    "\"\"\"\n",
    "os.environ[\"OPENAI_API_KEY\"] = \"insert your api key\" "
   ]
  },
  {
   "cell_type": "code",
   "execution_count": 2,
   "id": "5c1a7756-c07a-4ac9-8b18-6f438af5ca3b",
   "metadata": {},
   "outputs": [],
   "source": [
    "from langchain_openai import OpenAIEmbeddings\n",
    "from langchain.text_splitter import CharacterTextSplitter\n",
    "from langchain.vectorstores import Chroma\n",
    "from langchain.document_loaders import PyPDFLoader\n",
    "\n",
    "CHROMA_PATH = \".\\\\chroma1\"\n"
   ]
  },
  {
   "cell_type": "markdown",
   "id": "a318f718-32fa-40f3-85a5-f84e54b58d4b",
   "metadata": {},
   "source": [
    "# load data into Chroma DB"
   ]
  },
  {
   "cell_type": "code",
   "execution_count": 13,
   "id": "95e8d2dd-46b2-427b-93f1-c2883a29ce55",
   "metadata": {},
   "outputs": [],
   "source": [
    "# embeddings = OpenAIEmbeddings()\n",
    "loaders = PyPDFLoader(\"D:\\\\Bhagavad-gita-Swami-BG-Narasingha.pdf\")\n",
    "\n",
    "documents = loaders.load()\n",
    "\n",
    "db = Chroma.from_documents(\n",
    "    documents,\n",
    "    OpenAIEmbeddings(chunk_size=200),\n",
    "    persist_directory=CHROMA_PATH\n",
    "  )\n",
    "#db.persist()\n",
    "#here you can use \"db.persist\" or not \n",
    "# The message is just telling you that your code is still trying to click \"Save\" (db.persist()) \n",
    "# even though the \"autosave\" feature is now on in Chroma. It's not harmful, but it's an unnecessary step."
   ]
  },
  {
   "cell_type": "code",
   "execution_count": 12,
   "id": "02bde2b6-b89a-4ecc-86e7-64770a5935eb",
   "metadata": {},
   "outputs": [
    {
     "ename": "SystemExit",
     "evalue": "1",
     "output_type": "error",
     "traceback": [
      "An exception has occurred, use %tb to see the full traceback.\n",
      "\u001b[1;31mSystemExit\u001b[0m\u001b[1;31m:\u001b[0m 1\n"
     ]
    },
    {
     "name": "stderr",
     "output_type": "stream",
     "text": [
      "D:\\ju\\Lib\\site-packages\\IPython\\core\\interactiveshell.py:3585: UserWarning: To exit: use 'exit', 'quit', or Ctrl-D.\n",
      "  warn(\"To exit: use 'exit', 'quit', or Ctrl-D.\", stacklevel=1)\n"
     ]
    }
   ],
   "source": [
    "import sys\n",
    "sys.exit(1)"
   ]
  },
  {
   "cell_type": "code",
   "execution_count": null,
   "id": "020f63d7-2678-4858-be89-fb181496e9b1",
   "metadata": {},
   "outputs": [],
   "source": []
  }
 ],
 "metadata": {
  "kernelspec": {
   "display_name": "Python 3 (ipykernel)",
   "language": "python",
   "name": "python3"
  },
  "language_info": {
   "codemirror_mode": {
    "name": "ipython",
    "version": 3
   },
   "file_extension": ".py",
   "mimetype": "text/x-python",
   "name": "python",
   "nbconvert_exporter": "python",
   "pygments_lexer": "ipython3",
   "version": "3.12.7"
  }
 },
 "nbformat": 4,
 "nbformat_minor": 5
}
